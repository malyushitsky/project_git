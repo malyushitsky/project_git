{
 "cells": [
  {
   "cell_type": "markdown",
   "metadata": {
    "toc": true
   },
   "source": [
    "<h1>Содержание<span class=\"tocSkip\"></span></h1>\n",
    "<div class=\"toc\"><ul class=\"toc-item\"><li><span><a href=\"#Подготовка-данных\" data-toc-modified-id=\"Подготовка-данных-1\"><span class=\"toc-item-num\">1&nbsp;&nbsp;</span>Подготовка данных</a></span></li><li><span><a href=\"#Исследование-задачи\" data-toc-modified-id=\"Исследование-задачи-2\"><span class=\"toc-item-num\">2&nbsp;&nbsp;</span>Исследование задачи</a></span><ul class=\"toc-item\"><li><span><a href=\"#Вывод\" data-toc-modified-id=\"Вывод-2.1\"><span class=\"toc-item-num\">2.1&nbsp;&nbsp;</span>Вывод</a></span></li></ul></li><li><span><a href=\"#Борьба-с-дисбалансом\" data-toc-modified-id=\"Борьба-с-дисбалансом-3\"><span class=\"toc-item-num\">3&nbsp;&nbsp;</span>Борьба с дисбалансом</a></span><ul class=\"toc-item\"><li><span><a href=\"#Вывод\" data-toc-modified-id=\"Вывод-3.1\"><span class=\"toc-item-num\">3.1&nbsp;&nbsp;</span>Вывод</a></span></li></ul></li><li><span><a href=\"#Тестирование-модели\" data-toc-modified-id=\"Тестирование-модели-4\"><span class=\"toc-item-num\">4&nbsp;&nbsp;</span>Тестирование модели</a></span><ul class=\"toc-item\"><li><span><a href=\"#Итог\" data-toc-modified-id=\"Итог-4.1\"><span class=\"toc-item-num\">4.1&nbsp;&nbsp;</span>Итог</a></span></li></ul></li><li><span><a href=\"#Чек-лист-готовности-проекта\" data-toc-modified-id=\"Чек-лист-готовности-проекта-5\"><span class=\"toc-item-num\">5&nbsp;&nbsp;</span>Чек-лист готовности проекта</a></span></li></ul></div>"
   ]
  },
  {
   "cell_type": "markdown",
   "metadata": {},
   "source": [
    "# Отток клиентов"
   ]
  },
  {
   "cell_type": "markdown",
   "metadata": {},
   "source": [
    "Из «Бета-Банка» стали уходить клиенты. Каждый месяц. Немного, но заметно. Банковские маркетологи посчитали: сохранять текущих клиентов дешевле, чем привлекать новых.\n",
    "\n",
    "`Задача исследования` - нужно спрогнозировать, уйдёт клиент из банка в ближайшее время или нет, построив модель с предельно большим значением *F1*-меры  (необходимо достичь >=0.59)\n",
    "\n",
    "Источник данных: [https://www.kaggle.com/barelydedicated/bank-customer-churn-modeling](https://www.kaggle.com/barelydedicated/bank-customer-churn-modeling)"
   ]
  },
  {
   "cell_type": "markdown",
   "metadata": {},
   "source": [
    "## Подготовка данных"
   ]
  },
  {
   "cell_type": "code",
   "execution_count": 1,
   "metadata": {},
   "outputs": [],
   "source": [
    "# Подключение библиотек\n",
    "import numpy as np\n",
    "import pandas as pd\n",
    "import seaborn as sns\n",
    "import matplotlib.pyplot as plt\n",
    "from sklearn.model_selection import train_test_split\n",
    "from sklearn.tree import DecisionTreeClassifier\n",
    "from sklearn.ensemble import RandomForestClassifier \n",
    "from sklearn.linear_model import LogisticRegression \n",
    "from sklearn.dummy import DummyClassifier\n",
    "from sklearn.metrics import accuracy_score\n",
    "from sklearn.preprocessing import StandardScaler\n",
    "from sklearn.preprocessing import OrdinalEncoder\n",
    "from sklearn.utils import shuffle\n",
    "from sklearn.model_selection import GridSearchCV\n",
    "from sklearn.metrics import f1_score, roc_auc_score, roc_curve, precision_score, recall_score, precision_recall_curve\n",
    "pd.options.mode.chained_assignment = None"
   ]
  },
  {
   "cell_type": "code",
   "execution_count": 2,
   "metadata": {},
   "outputs": [],
   "source": [
    "# Чтение файла\n",
    "try:\n",
    "    df = pd.read_csv('Churn.csv')\n",
    "except:\n",
    "    df = pd.read_csv('/datasets/Churn.csv')"
   ]
  },
  {
   "cell_type": "code",
   "execution_count": 3,
   "metadata": {},
   "outputs": [
    {
     "data": {
      "text/html": [
       "<div>\n",
       "<style scoped>\n",
       "    .dataframe tbody tr th:only-of-type {\n",
       "        vertical-align: middle;\n",
       "    }\n",
       "\n",
       "    .dataframe tbody tr th {\n",
       "        vertical-align: top;\n",
       "    }\n",
       "\n",
       "    .dataframe thead th {\n",
       "        text-align: right;\n",
       "    }\n",
       "</style>\n",
       "<table border=\"1\" class=\"dataframe\">\n",
       "  <thead>\n",
       "    <tr style=\"text-align: right;\">\n",
       "      <th></th>\n",
       "      <th>RowNumber</th>\n",
       "      <th>CustomerId</th>\n",
       "      <th>Surname</th>\n",
       "      <th>CreditScore</th>\n",
       "      <th>Geography</th>\n",
       "      <th>Gender</th>\n",
       "      <th>Age</th>\n",
       "      <th>Tenure</th>\n",
       "      <th>Balance</th>\n",
       "      <th>NumOfProducts</th>\n",
       "      <th>HasCrCard</th>\n",
       "      <th>IsActiveMember</th>\n",
       "      <th>EstimatedSalary</th>\n",
       "      <th>Exited</th>\n",
       "    </tr>\n",
       "  </thead>\n",
       "  <tbody>\n",
       "    <tr>\n",
       "      <td>0</td>\n",
       "      <td>1</td>\n",
       "      <td>15634602</td>\n",
       "      <td>Hargrave</td>\n",
       "      <td>619</td>\n",
       "      <td>France</td>\n",
       "      <td>Female</td>\n",
       "      <td>42</td>\n",
       "      <td>2.0</td>\n",
       "      <td>0.00</td>\n",
       "      <td>1</td>\n",
       "      <td>1</td>\n",
       "      <td>1</td>\n",
       "      <td>101348.88</td>\n",
       "      <td>1</td>\n",
       "    </tr>\n",
       "    <tr>\n",
       "      <td>1</td>\n",
       "      <td>2</td>\n",
       "      <td>15647311</td>\n",
       "      <td>Hill</td>\n",
       "      <td>608</td>\n",
       "      <td>Spain</td>\n",
       "      <td>Female</td>\n",
       "      <td>41</td>\n",
       "      <td>1.0</td>\n",
       "      <td>83807.86</td>\n",
       "      <td>1</td>\n",
       "      <td>0</td>\n",
       "      <td>1</td>\n",
       "      <td>112542.58</td>\n",
       "      <td>0</td>\n",
       "    </tr>\n",
       "    <tr>\n",
       "      <td>2</td>\n",
       "      <td>3</td>\n",
       "      <td>15619304</td>\n",
       "      <td>Onio</td>\n",
       "      <td>502</td>\n",
       "      <td>France</td>\n",
       "      <td>Female</td>\n",
       "      <td>42</td>\n",
       "      <td>8.0</td>\n",
       "      <td>159660.80</td>\n",
       "      <td>3</td>\n",
       "      <td>1</td>\n",
       "      <td>0</td>\n",
       "      <td>113931.57</td>\n",
       "      <td>1</td>\n",
       "    </tr>\n",
       "    <tr>\n",
       "      <td>3</td>\n",
       "      <td>4</td>\n",
       "      <td>15701354</td>\n",
       "      <td>Boni</td>\n",
       "      <td>699</td>\n",
       "      <td>France</td>\n",
       "      <td>Female</td>\n",
       "      <td>39</td>\n",
       "      <td>1.0</td>\n",
       "      <td>0.00</td>\n",
       "      <td>2</td>\n",
       "      <td>0</td>\n",
       "      <td>0</td>\n",
       "      <td>93826.63</td>\n",
       "      <td>0</td>\n",
       "    </tr>\n",
       "    <tr>\n",
       "      <td>4</td>\n",
       "      <td>5</td>\n",
       "      <td>15737888</td>\n",
       "      <td>Mitchell</td>\n",
       "      <td>850</td>\n",
       "      <td>Spain</td>\n",
       "      <td>Female</td>\n",
       "      <td>43</td>\n",
       "      <td>2.0</td>\n",
       "      <td>125510.82</td>\n",
       "      <td>1</td>\n",
       "      <td>1</td>\n",
       "      <td>1</td>\n",
       "      <td>79084.10</td>\n",
       "      <td>0</td>\n",
       "    </tr>\n",
       "  </tbody>\n",
       "</table>\n",
       "</div>"
      ],
      "text/plain": [
       "   RowNumber  CustomerId   Surname  CreditScore Geography  Gender  Age  \\\n",
       "0          1    15634602  Hargrave          619    France  Female   42   \n",
       "1          2    15647311      Hill          608     Spain  Female   41   \n",
       "2          3    15619304      Onio          502    France  Female   42   \n",
       "3          4    15701354      Boni          699    France  Female   39   \n",
       "4          5    15737888  Mitchell          850     Spain  Female   43   \n",
       "\n",
       "   Tenure    Balance  NumOfProducts  HasCrCard  IsActiveMember  \\\n",
       "0     2.0       0.00              1          1               1   \n",
       "1     1.0   83807.86              1          0               1   \n",
       "2     8.0  159660.80              3          1               0   \n",
       "3     1.0       0.00              2          0               0   \n",
       "4     2.0  125510.82              1          1               1   \n",
       "\n",
       "   EstimatedSalary  Exited  \n",
       "0        101348.88       1  \n",
       "1        112542.58       0  \n",
       "2        113931.57       1  \n",
       "3         93826.63       0  \n",
       "4         79084.10       0  "
      ]
     },
     "execution_count": 3,
     "metadata": {},
     "output_type": "execute_result"
    }
   ],
   "source": [
    "df.head()"
   ]
  },
  {
   "cell_type": "code",
   "execution_count": 4,
   "metadata": {},
   "outputs": [
    {
     "data": {
      "text/html": [
       "<div>\n",
       "<style scoped>\n",
       "    .dataframe tbody tr th:only-of-type {\n",
       "        vertical-align: middle;\n",
       "    }\n",
       "\n",
       "    .dataframe tbody tr th {\n",
       "        vertical-align: top;\n",
       "    }\n",
       "\n",
       "    .dataframe thead th {\n",
       "        text-align: right;\n",
       "    }\n",
       "</style>\n",
       "<table border=\"1\" class=\"dataframe\">\n",
       "  <thead>\n",
       "    <tr style=\"text-align: right;\">\n",
       "      <th></th>\n",
       "      <th>RowNumber</th>\n",
       "      <th>CustomerId</th>\n",
       "      <th>CreditScore</th>\n",
       "      <th>Age</th>\n",
       "      <th>Tenure</th>\n",
       "      <th>Balance</th>\n",
       "      <th>NumOfProducts</th>\n",
       "      <th>HasCrCard</th>\n",
       "      <th>IsActiveMember</th>\n",
       "      <th>EstimatedSalary</th>\n",
       "      <th>Exited</th>\n",
       "    </tr>\n",
       "  </thead>\n",
       "  <tbody>\n",
       "    <tr>\n",
       "      <td>count</td>\n",
       "      <td>10000.00000</td>\n",
       "      <td>1.000000e+04</td>\n",
       "      <td>10000.000000</td>\n",
       "      <td>10000.000000</td>\n",
       "      <td>9091.000000</td>\n",
       "      <td>10000.000000</td>\n",
       "      <td>10000.000000</td>\n",
       "      <td>10000.00000</td>\n",
       "      <td>10000.000000</td>\n",
       "      <td>10000.000000</td>\n",
       "      <td>10000.000000</td>\n",
       "    </tr>\n",
       "    <tr>\n",
       "      <td>mean</td>\n",
       "      <td>5000.50000</td>\n",
       "      <td>1.569094e+07</td>\n",
       "      <td>650.528800</td>\n",
       "      <td>38.921800</td>\n",
       "      <td>4.997690</td>\n",
       "      <td>76485.889288</td>\n",
       "      <td>1.530200</td>\n",
       "      <td>0.70550</td>\n",
       "      <td>0.515100</td>\n",
       "      <td>100090.239881</td>\n",
       "      <td>0.203700</td>\n",
       "    </tr>\n",
       "    <tr>\n",
       "      <td>std</td>\n",
       "      <td>2886.89568</td>\n",
       "      <td>7.193619e+04</td>\n",
       "      <td>96.653299</td>\n",
       "      <td>10.487806</td>\n",
       "      <td>2.894723</td>\n",
       "      <td>62397.405202</td>\n",
       "      <td>0.581654</td>\n",
       "      <td>0.45584</td>\n",
       "      <td>0.499797</td>\n",
       "      <td>57510.492818</td>\n",
       "      <td>0.402769</td>\n",
       "    </tr>\n",
       "    <tr>\n",
       "      <td>min</td>\n",
       "      <td>1.00000</td>\n",
       "      <td>1.556570e+07</td>\n",
       "      <td>350.000000</td>\n",
       "      <td>18.000000</td>\n",
       "      <td>0.000000</td>\n",
       "      <td>0.000000</td>\n",
       "      <td>1.000000</td>\n",
       "      <td>0.00000</td>\n",
       "      <td>0.000000</td>\n",
       "      <td>11.580000</td>\n",
       "      <td>0.000000</td>\n",
       "    </tr>\n",
       "    <tr>\n",
       "      <td>25%</td>\n",
       "      <td>2500.75000</td>\n",
       "      <td>1.562853e+07</td>\n",
       "      <td>584.000000</td>\n",
       "      <td>32.000000</td>\n",
       "      <td>2.000000</td>\n",
       "      <td>0.000000</td>\n",
       "      <td>1.000000</td>\n",
       "      <td>0.00000</td>\n",
       "      <td>0.000000</td>\n",
       "      <td>51002.110000</td>\n",
       "      <td>0.000000</td>\n",
       "    </tr>\n",
       "    <tr>\n",
       "      <td>50%</td>\n",
       "      <td>5000.50000</td>\n",
       "      <td>1.569074e+07</td>\n",
       "      <td>652.000000</td>\n",
       "      <td>37.000000</td>\n",
       "      <td>5.000000</td>\n",
       "      <td>97198.540000</td>\n",
       "      <td>1.000000</td>\n",
       "      <td>1.00000</td>\n",
       "      <td>1.000000</td>\n",
       "      <td>100193.915000</td>\n",
       "      <td>0.000000</td>\n",
       "    </tr>\n",
       "    <tr>\n",
       "      <td>75%</td>\n",
       "      <td>7500.25000</td>\n",
       "      <td>1.575323e+07</td>\n",
       "      <td>718.000000</td>\n",
       "      <td>44.000000</td>\n",
       "      <td>7.000000</td>\n",
       "      <td>127644.240000</td>\n",
       "      <td>2.000000</td>\n",
       "      <td>1.00000</td>\n",
       "      <td>1.000000</td>\n",
       "      <td>149388.247500</td>\n",
       "      <td>0.000000</td>\n",
       "    </tr>\n",
       "    <tr>\n",
       "      <td>max</td>\n",
       "      <td>10000.00000</td>\n",
       "      <td>1.581569e+07</td>\n",
       "      <td>850.000000</td>\n",
       "      <td>92.000000</td>\n",
       "      <td>10.000000</td>\n",
       "      <td>250898.090000</td>\n",
       "      <td>4.000000</td>\n",
       "      <td>1.00000</td>\n",
       "      <td>1.000000</td>\n",
       "      <td>199992.480000</td>\n",
       "      <td>1.000000</td>\n",
       "    </tr>\n",
       "  </tbody>\n",
       "</table>\n",
       "</div>"
      ],
      "text/plain": [
       "         RowNumber    CustomerId   CreditScore           Age       Tenure  \\\n",
       "count  10000.00000  1.000000e+04  10000.000000  10000.000000  9091.000000   \n",
       "mean    5000.50000  1.569094e+07    650.528800     38.921800     4.997690   \n",
       "std     2886.89568  7.193619e+04     96.653299     10.487806     2.894723   \n",
       "min        1.00000  1.556570e+07    350.000000     18.000000     0.000000   \n",
       "25%     2500.75000  1.562853e+07    584.000000     32.000000     2.000000   \n",
       "50%     5000.50000  1.569074e+07    652.000000     37.000000     5.000000   \n",
       "75%     7500.25000  1.575323e+07    718.000000     44.000000     7.000000   \n",
       "max    10000.00000  1.581569e+07    850.000000     92.000000    10.000000   \n",
       "\n",
       "             Balance  NumOfProducts    HasCrCard  IsActiveMember  \\\n",
       "count   10000.000000   10000.000000  10000.00000    10000.000000   \n",
       "mean    76485.889288       1.530200      0.70550        0.515100   \n",
       "std     62397.405202       0.581654      0.45584        0.499797   \n",
       "min         0.000000       1.000000      0.00000        0.000000   \n",
       "25%         0.000000       1.000000      0.00000        0.000000   \n",
       "50%     97198.540000       1.000000      1.00000        1.000000   \n",
       "75%    127644.240000       2.000000      1.00000        1.000000   \n",
       "max    250898.090000       4.000000      1.00000        1.000000   \n",
       "\n",
       "       EstimatedSalary        Exited  \n",
       "count     10000.000000  10000.000000  \n",
       "mean     100090.239881      0.203700  \n",
       "std       57510.492818      0.402769  \n",
       "min          11.580000      0.000000  \n",
       "25%       51002.110000      0.000000  \n",
       "50%      100193.915000      0.000000  \n",
       "75%      149388.247500      0.000000  \n",
       "max      199992.480000      1.000000  "
      ]
     },
     "execution_count": 4,
     "metadata": {},
     "output_type": "execute_result"
    }
   ],
   "source": [
    "df.describe()"
   ]
  },
  {
   "cell_type": "code",
   "execution_count": 5,
   "metadata": {},
   "outputs": [
    {
     "name": "stdout",
     "output_type": "stream",
     "text": [
      "<class 'pandas.core.frame.DataFrame'>\n",
      "RangeIndex: 10000 entries, 0 to 9999\n",
      "Data columns (total 14 columns):\n",
      "RowNumber          10000 non-null int64\n",
      "CustomerId         10000 non-null int64\n",
      "Surname            10000 non-null object\n",
      "CreditScore        10000 non-null int64\n",
      "Geography          10000 non-null object\n",
      "Gender             10000 non-null object\n",
      "Age                10000 non-null int64\n",
      "Tenure             9091 non-null float64\n",
      "Balance            10000 non-null float64\n",
      "NumOfProducts      10000 non-null int64\n",
      "HasCrCard          10000 non-null int64\n",
      "IsActiveMember     10000 non-null int64\n",
      "EstimatedSalary    10000 non-null float64\n",
      "Exited             10000 non-null int64\n",
      "dtypes: float64(3), int64(8), object(3)\n",
      "memory usage: 1.1+ MB\n"
     ]
    }
   ],
   "source": [
    "df.info()"
   ]
  },
  {
   "cell_type": "markdown",
   "metadata": {},
   "source": [
    "**В таблице `df` 10000 строк и 14 столбцов**\n",
    "\n",
    "**Согласно документации к данным:**\n",
    "* `RowNumber` — индекс строки в данных\n",
    "* `CustomerId` — уникальный идентификатор клиента\n",
    "* `Surname` — фамилия\n",
    "* `CreditScore` —  кредитный рейтинг\n",
    "* `Geography` —  страна проживания\n",
    "* `Gender` — пол\n",
    "* `Age` — возраст\n",
    "* `Tenure` — сколько лет человек является клиентом банка\n",
    "* `Balance` —  баланс на счете\n",
    "* `NumOfProducts` —  количество продуктов банка, используемых клиентом\n",
    "* `HasCrCard` — наличие кредитной карты\n",
    "* `IsActiveMember` —  активность клиента\n",
    "* `EstimatedSalary` —  предполагаемая зарплата\n",
    "* `Exited` —  факт ухода клиента "
   ]
  },
  {
   "cell_type": "markdown",
   "metadata": {},
   "source": [
    "Индекс строки, уникальный идентификатор и фамилия клиента в данных являются бесполезной информацией от которой следует избавиться для ускорения обучения и увеличения точности моделей"
   ]
  },
  {
   "cell_type": "code",
   "execution_count": 6,
   "metadata": {},
   "outputs": [],
   "source": [
    "# Удаление столбцов RowNumber и CurtomerId\n",
    "df.drop(['RowNumber','CustomerId', 'Surname'],axis=1,inplace=True)"
   ]
  },
  {
   "cell_type": "code",
   "execution_count": 7,
   "metadata": {},
   "outputs": [
    {
     "data": {
      "text/plain": [
       "Index(['CreditScore', 'Geography', 'Gender', 'Age', 'Tenure', 'Balance',\n",
       "       'NumOfProducts', 'HasCrCard', 'IsActiveMember', 'EstimatedSalary',\n",
       "       'Exited'],\n",
       "      dtype='object')"
      ]
     },
     "execution_count": 7,
     "metadata": {},
     "output_type": "execute_result"
    }
   ],
   "source": [
    "df.columns"
   ]
  },
  {
   "cell_type": "code",
   "execution_count": 8,
   "metadata": {},
   "outputs": [
    {
     "data": {
      "text/plain": [
       "CreditScore          0\n",
       "Geography            0\n",
       "Gender               0\n",
       "Age                  0\n",
       "Tenure             909\n",
       "Balance              0\n",
       "NumOfProducts        0\n",
       "HasCrCard            0\n",
       "IsActiveMember       0\n",
       "EstimatedSalary      0\n",
       "Exited               0\n",
       "dtype: int64"
      ]
     },
     "execution_count": 8,
     "metadata": {},
     "output_type": "execute_result"
    }
   ],
   "source": [
    "# Проверка количества пропусков\n",
    "df.isnull().sum()"
   ]
  },
  {
   "cell_type": "markdown",
   "metadata": {},
   "source": [
    "Почти 10% пропусков в колонке `Tenure`"
   ]
  },
  {
   "cell_type": "code",
   "execution_count": 9,
   "metadata": {},
   "outputs": [
    {
     "data": {
      "text/plain": [
       "1.0     952\n",
       "2.0     950\n",
       "8.0     933\n",
       "3.0     928\n",
       "5.0     927\n",
       "7.0     925\n",
       "4.0     885\n",
       "9.0     882\n",
       "6.0     881\n",
       "10.0    446\n",
       "0.0     382\n",
       "Name: Tenure, dtype: int64"
      ]
     },
     "execution_count": 9,
     "metadata": {},
     "output_type": "execute_result"
    }
   ],
   "source": [
    "df['Tenure'].value_counts()"
   ]
  },
  {
   "cell_type": "markdown",
   "metadata": {},
   "source": [
    "Изначально думал заполнить пропуски медианным значением, но это сильно ухудшило модели по сравнению с вариантом удаления строк с пропусками"
   ]
  },
  {
   "cell_type": "code",
   "execution_count": 10,
   "metadata": {},
   "outputs": [
    {
     "data": {
      "text/html": [
       "<div>\n",
       "<style scoped>\n",
       "    .dataframe tbody tr th:only-of-type {\n",
       "        vertical-align: middle;\n",
       "    }\n",
       "\n",
       "    .dataframe tbody tr th {\n",
       "        vertical-align: top;\n",
       "    }\n",
       "\n",
       "    .dataframe thead th {\n",
       "        text-align: right;\n",
       "    }\n",
       "</style>\n",
       "<table border=\"1\" class=\"dataframe\">\n",
       "  <thead>\n",
       "    <tr style=\"text-align: right;\">\n",
       "      <th></th>\n",
       "      <th>CreditScore</th>\n",
       "      <th>Geography</th>\n",
       "      <th>Gender</th>\n",
       "      <th>Age</th>\n",
       "      <th>Tenure</th>\n",
       "      <th>Balance</th>\n",
       "      <th>NumOfProducts</th>\n",
       "      <th>HasCrCard</th>\n",
       "      <th>IsActiveMember</th>\n",
       "      <th>EstimatedSalary</th>\n",
       "      <th>Exited</th>\n",
       "    </tr>\n",
       "  </thead>\n",
       "  <tbody>\n",
       "    <tr>\n",
       "      <td>0</td>\n",
       "      <td>619</td>\n",
       "      <td>France</td>\n",
       "      <td>Female</td>\n",
       "      <td>42</td>\n",
       "      <td>2.0</td>\n",
       "      <td>0.00</td>\n",
       "      <td>1</td>\n",
       "      <td>1</td>\n",
       "      <td>1</td>\n",
       "      <td>101348.88</td>\n",
       "      <td>1</td>\n",
       "    </tr>\n",
       "    <tr>\n",
       "      <td>1</td>\n",
       "      <td>608</td>\n",
       "      <td>Spain</td>\n",
       "      <td>Female</td>\n",
       "      <td>41</td>\n",
       "      <td>1.0</td>\n",
       "      <td>83807.86</td>\n",
       "      <td>1</td>\n",
       "      <td>0</td>\n",
       "      <td>1</td>\n",
       "      <td>112542.58</td>\n",
       "      <td>0</td>\n",
       "    </tr>\n",
       "    <tr>\n",
       "      <td>2</td>\n",
       "      <td>502</td>\n",
       "      <td>France</td>\n",
       "      <td>Female</td>\n",
       "      <td>42</td>\n",
       "      <td>8.0</td>\n",
       "      <td>159660.80</td>\n",
       "      <td>3</td>\n",
       "      <td>1</td>\n",
       "      <td>0</td>\n",
       "      <td>113931.57</td>\n",
       "      <td>1</td>\n",
       "    </tr>\n",
       "    <tr>\n",
       "      <td>3</td>\n",
       "      <td>699</td>\n",
       "      <td>France</td>\n",
       "      <td>Female</td>\n",
       "      <td>39</td>\n",
       "      <td>1.0</td>\n",
       "      <td>0.00</td>\n",
       "      <td>2</td>\n",
       "      <td>0</td>\n",
       "      <td>0</td>\n",
       "      <td>93826.63</td>\n",
       "      <td>0</td>\n",
       "    </tr>\n",
       "    <tr>\n",
       "      <td>4</td>\n",
       "      <td>850</td>\n",
       "      <td>Spain</td>\n",
       "      <td>Female</td>\n",
       "      <td>43</td>\n",
       "      <td>2.0</td>\n",
       "      <td>125510.82</td>\n",
       "      <td>1</td>\n",
       "      <td>1</td>\n",
       "      <td>1</td>\n",
       "      <td>79084.10</td>\n",
       "      <td>0</td>\n",
       "    </tr>\n",
       "  </tbody>\n",
       "</table>\n",
       "</div>"
      ],
      "text/plain": [
       "   CreditScore Geography  Gender  Age  Tenure    Balance  NumOfProducts  \\\n",
       "0          619    France  Female   42     2.0       0.00              1   \n",
       "1          608     Spain  Female   41     1.0   83807.86              1   \n",
       "2          502    France  Female   42     8.0  159660.80              3   \n",
       "3          699    France  Female   39     1.0       0.00              2   \n",
       "4          850     Spain  Female   43     2.0  125510.82              1   \n",
       "\n",
       "   HasCrCard  IsActiveMember  EstimatedSalary  Exited  \n",
       "0          1               1        101348.88       1  \n",
       "1          0               1        112542.58       0  \n",
       "2          1               0        113931.57       1  \n",
       "3          0               0         93826.63       0  \n",
       "4          1               1         79084.10       0  "
      ]
     },
     "execution_count": 10,
     "metadata": {},
     "output_type": "execute_result"
    }
   ],
   "source": [
    "df.head()"
   ]
  },
  {
   "cell_type": "code",
   "execution_count": 11,
   "metadata": {},
   "outputs": [],
   "source": [
    "# Заполнение пропусков значением -1 в колонке Tenure\n",
    "df['Tenure'].fillna(-1, inplace=True) \n",
    "                                "
   ]
  },
  {
   "cell_type": "code",
   "execution_count": 12,
   "metadata": {},
   "outputs": [
    {
     "data": {
      "text/plain": [
       " 1.0     952\n",
       " 2.0     950\n",
       " 8.0     933\n",
       " 3.0     928\n",
       " 5.0     927\n",
       " 7.0     925\n",
       "-1.0     909\n",
       " 4.0     885\n",
       " 9.0     882\n",
       " 6.0     881\n",
       " 10.0    446\n",
       " 0.0     382\n",
       "Name: Tenure, dtype: int64"
      ]
     },
     "execution_count": 12,
     "metadata": {},
     "output_type": "execute_result"
    }
   ],
   "source": [
    "df['Tenure'].value_counts()"
   ]
  },
  {
   "cell_type": "code",
   "execution_count": 13,
   "metadata": {},
   "outputs": [
    {
     "data": {
      "image/png": "[encoded data removed]",
      "text/plain": [
       "<Figure size 1152x576 with 2 Axes>"
      ]
     },
     "metadata": {
      "needs_background": "light"
     },
     "output_type": "display_data"
    }
   ],
   "source": [
    "# Проверка корреляции между признаками \n",
    "plt.figure(figsize=(16, 8))\n",
    "sns.heatmap(df.corr(), annot=True, vmin=-1, vmax=1, center= 0, cmap='coolwarm')\n",
    "plt.show()"
   ]
  },
  {
   "cell_type": "markdown",
   "metadata": {},
   "source": [
    "Высокой корреляции между признаками не заметно, следовательно дополнительное удаления колонок не требуется"
   ]
  },
  {
   "cell_type": "markdown",
   "metadata": {},
   "source": [
    "## Исследование задачи"
   ]
  },
  {
   "cell_type": "markdown",
   "metadata": {},
   "source": [
    "Разобьем данные на 3 выборки:\n",
    "- Обучающая (60%)\n",
    "- Валидационная (20%)\n",
    "- Тестовая (20%)"
   ]
  },
  {
   "cell_type": "markdown",
   "metadata": {},
   "source": [
    "`Целевой признак` - факт уход клиента"
   ]
  },
  {
   "cell_type": "code",
   "execution_count": 14,
   "metadata": {},
   "outputs": [],
   "source": [
    "# Применение метода one hot encoding для категориальных признаков\n",
    "df_ohe = pd.get_dummies(df, drop_first=True)"
   ]
  },
  {
   "cell_type": "code",
   "execution_count": 15,
   "metadata": {},
   "outputs": [
    {
     "data": {
      "text/html": [
       "<div>\n",
       "<style scoped>\n",
       "    .dataframe tbody tr th:only-of-type {\n",
       "        vertical-align: middle;\n",
       "    }\n",
       "\n",
       "    .dataframe tbody tr th {\n",
       "        vertical-align: top;\n",
       "    }\n",
       "\n",
       "    .dataframe thead th {\n",
       "        text-align: right;\n",
       "    }\n",
       "</style>\n",
       "<table border=\"1\" class=\"dataframe\">\n",
       "  <thead>\n",
       "    <tr style=\"text-align: right;\">\n",
       "      <th></th>\n",
       "      <th>CreditScore</th>\n",
       "      <th>Age</th>\n",
       "      <th>Tenure</th>\n",
       "      <th>Balance</th>\n",
       "      <th>NumOfProducts</th>\n",
       "      <th>HasCrCard</th>\n",
       "      <th>IsActiveMember</th>\n",
       "      <th>EstimatedSalary</th>\n",
       "      <th>Exited</th>\n",
       "      <th>Geography_Germany</th>\n",
       "      <th>Geography_Spain</th>\n",
       "      <th>Gender_Male</th>\n",
       "    </tr>\n",
       "  </thead>\n",
       "  <tbody>\n",
       "    <tr>\n",
       "      <td>0</td>\n",
       "      <td>619</td>\n",
       "      <td>42</td>\n",
       "      <td>2.0</td>\n",
       "      <td>0.00</td>\n",
       "      <td>1</td>\n",
       "      <td>1</td>\n",
       "      <td>1</td>\n",
       "      <td>101348.88</td>\n",
       "      <td>1</td>\n",
       "      <td>0</td>\n",
       "      <td>0</td>\n",
       "      <td>0</td>\n",
       "    </tr>\n",
       "    <tr>\n",
       "      <td>1</td>\n",
       "      <td>608</td>\n",
       "      <td>41</td>\n",
       "      <td>1.0</td>\n",
       "      <td>83807.86</td>\n",
       "      <td>1</td>\n",
       "      <td>0</td>\n",
       "      <td>1</td>\n",
       "      <td>112542.58</td>\n",
       "      <td>0</td>\n",
       "      <td>0</td>\n",
       "      <td>1</td>\n",
       "      <td>0</td>\n",
       "    </tr>\n",
       "    <tr>\n",
       "      <td>2</td>\n",
       "      <td>502</td>\n",
       "      <td>42</td>\n",
       "      <td>8.0</td>\n",
       "      <td>159660.80</td>\n",
       "      <td>3</td>\n",
       "      <td>1</td>\n",
       "      <td>0</td>\n",
       "      <td>113931.57</td>\n",
       "      <td>1</td>\n",
       "      <td>0</td>\n",
       "      <td>0</td>\n",
       "      <td>0</td>\n",
       "    </tr>\n",
       "    <tr>\n",
       "      <td>3</td>\n",
       "      <td>699</td>\n",
       "      <td>39</td>\n",
       "      <td>1.0</td>\n",
       "      <td>0.00</td>\n",
       "      <td>2</td>\n",
       "      <td>0</td>\n",
       "      <td>0</td>\n",
       "      <td>93826.63</td>\n",
       "      <td>0</td>\n",
       "      <td>0</td>\n",
       "      <td>0</td>\n",
       "      <td>0</td>\n",
       "    </tr>\n",
       "    <tr>\n",
       "      <td>4</td>\n",
       "      <td>850</td>\n",
       "      <td>43</td>\n",
       "      <td>2.0</td>\n",
       "      <td>125510.82</td>\n",
       "      <td>1</td>\n",
       "      <td>1</td>\n",
       "      <td>1</td>\n",
       "      <td>79084.10</td>\n",
       "      <td>0</td>\n",
       "      <td>0</td>\n",
       "      <td>1</td>\n",
       "      <td>0</td>\n",
       "    </tr>\n",
       "  </tbody>\n",
       "</table>\n",
       "</div>"
      ],
      "text/plain": [
       "   CreditScore  Age  Tenure    Balance  NumOfProducts  HasCrCard  \\\n",
       "0          619   42     2.0       0.00              1          1   \n",
       "1          608   41     1.0   83807.86              1          0   \n",
       "2          502   42     8.0  159660.80              3          1   \n",
       "3          699   39     1.0       0.00              2          0   \n",
       "4          850   43     2.0  125510.82              1          1   \n",
       "\n",
       "   IsActiveMember  EstimatedSalary  Exited  Geography_Germany  \\\n",
       "0               1        101348.88       1                  0   \n",
       "1               1        112542.58       0                  0   \n",
       "2               0        113931.57       1                  0   \n",
       "3               0         93826.63       0                  0   \n",
       "4               1         79084.10       0                  0   \n",
       "\n",
       "   Geography_Spain  Gender_Male  \n",
       "0                0            0  \n",
       "1                1            0  \n",
       "2                0            0  \n",
       "3                0            0  \n",
       "4                1            0  "
      ]
     },
     "execution_count": 15,
     "metadata": {},
     "output_type": "execute_result"
    }
   ],
   "source": [
    "df_ohe.head()"
   ]
  },
  {
   "cell_type": "code",
   "execution_count": 16,
   "metadata": {},
   "outputs": [
    {
     "data": {
      "text/plain": [
       "CreditScore            int64\n",
       "Age                    int64\n",
       "Tenure               float64\n",
       "Balance              float64\n",
       "NumOfProducts          int64\n",
       "HasCrCard              int64\n",
       "IsActiveMember         int64\n",
       "EstimatedSalary      float64\n",
       "Exited                 int64\n",
       "Geography_Germany      uint8\n",
       "Geography_Spain        uint8\n",
       "Gender_Male            uint8\n",
       "dtype: object"
      ]
     },
     "execution_count": 16,
     "metadata": {},
     "output_type": "execute_result"
    }
   ],
   "source": [
    "df_ohe.dtypes"
   ]
  },
  {
   "cell_type": "code",
   "execution_count": 17,
   "metadata": {},
   "outputs": [],
   "source": [
    "# Первоначальное деление на тренировочную выборку и объединенную валидационную с тестовой\n",
    "df_train, df_valid_and_test = train_test_split(df_ohe, test_size=0.4, random_state=12)"
   ]
  },
  {
   "cell_type": "code",
   "execution_count": 18,
   "metadata": {},
   "outputs": [],
   "source": [
    "# Выделение валидационной и тестовой выборок\n",
    "df_valid, df_test = train_test_split(df_valid_and_test, test_size=0.5, random_state=12)"
   ]
  },
  {
   "cell_type": "code",
   "execution_count": 19,
   "metadata": {},
   "outputs": [
    {
     "data": {
      "text/plain": [
       "(6000, 12)"
      ]
     },
     "execution_count": 19,
     "metadata": {},
     "output_type": "execute_result"
    }
   ],
   "source": [
    "df_train.shape"
   ]
  },
  {
   "cell_type": "code",
   "execution_count": 20,
   "metadata": {
    "scrolled": true
   },
   "outputs": [
    {
     "data": {
      "text/plain": [
       "(2000, 12)"
      ]
     },
     "execution_count": 20,
     "metadata": {},
     "output_type": "execute_result"
    }
   ],
   "source": [
    "df_valid.shape"
   ]
  },
  {
   "cell_type": "code",
   "execution_count": 21,
   "metadata": {},
   "outputs": [
    {
     "data": {
      "text/plain": [
       "(2000, 12)"
      ]
     },
     "execution_count": 21,
     "metadata": {},
     "output_type": "execute_result"
    }
   ],
   "source": [
    "df_test.shape"
   ]
  },
  {
   "cell_type": "code",
   "execution_count": 22,
   "metadata": {},
   "outputs": [],
   "source": [
    "# Создание переменных для признаков и целевого признака \n",
    "features_train = df_train.drop(['Exited'], axis=1)\n",
    "target_train = df_train['Exited']\n",
    "features_valid = df_valid.drop(['Exited'], axis=1)\n",
    "target_valid = df_valid['Exited']\n",
    "features_test = df_test.drop(['Exited'], axis=1)\n",
    "target_test = df_test['Exited']"
   ]
  },
  {
   "cell_type": "code",
   "execution_count": 23,
   "metadata": {
    "scrolled": true
   },
   "outputs": [
    {
     "data": {
      "text/plain": [
       "0    0.7963\n",
       "1    0.2037\n",
       "Name: Exited, dtype: float64"
      ]
     },
     "execution_count": 23,
     "metadata": {},
     "output_type": "execute_result"
    }
   ],
   "source": [
    "# Исследование баланса классов\n",
    "df['Exited'].value_counts(normalize=True)"
   ]
  },
  {
   "cell_type": "markdown",
   "metadata": {},
   "source": [
    "20% клиентов ушли, 80% все еще остаются преданными данному банку. \n",
    "\n",
    "Заметен дисбаланс классов в соотношении 1 к 4\n",
    "\n",
    "Без опытного датасаентиста банк в скором времени может стать банкротом... К счастью, эту задачу поручили мне!!! 😎😎😎 \n",
    "\n",
    "Сперва построим модели без учета классовой несбалансированности, а затем учтем этот факт и построим новые модели, после чего сравним результаты и выберем наилучшую модель\n"
   ]
  },
  {
   "cell_type": "code",
   "execution_count": 24,
   "metadata": {},
   "outputs": [],
   "source": [
    "# Стандартизация данных\n",
    "numeric = ['CreditScore', 'Age', 'Balance', 'EstimatedSalary']\n",
    "\n",
    "scaler = StandardScaler()\n",
    "scaler.fit(features_train[numeric])\n",
    "features_train[numeric] = scaler.transform(features_train[numeric])\n",
    "features_valid[numeric] = scaler.transform(features_valid[numeric])\n",
    "features_test[numeric] = scaler.transform(features_test[numeric])"
   ]
  },
  {
   "cell_type": "code",
   "execution_count": 25,
   "metadata": {},
   "outputs": [
    {
     "name": "stdout",
     "output_type": "stream",
     "text": [
      "0.29739776951672864\n"
     ]
    }
   ],
   "source": [
    "# Создание модели логистической регрессии\n",
    "model = LogisticRegression(solver='liblinear', random_state=12)\n",
    "model.fit(features_train, target_train)\n",
    "predicted_valid = model.predict(features_valid)\n",
    "print(f1_score(target_valid, predicted_valid))"
   ]
  },
  {
   "cell_type": "markdown",
   "metadata": {},
   "source": [
    "Результат метрики f1 слишком низкий, попробуем повысить его, используя гиперпараметр class_weight = 'balanced'"
   ]
  },
  {
   "cell_type": "code",
   "execution_count": 26,
   "metadata": {},
   "outputs": [
    {
     "name": "stdout",
     "output_type": "stream",
     "text": [
      "0.5241016652059597\n"
     ]
    }
   ],
   "source": [
    "# Создание модели логистической регрессии с class_weight = 'balanced'\n",
    "model = LogisticRegression(solver='liblinear', class_weight = 'balanced', random_state=12)\n",
    "model.fit(features_train, target_train)\n",
    "predicted_valid = model.predict(features_valid)\n",
    "print(f1_score(target_valid, predicted_valid))"
   ]
  },
  {
   "cell_type": "markdown",
   "metadata": {},
   "source": [
    "f1 повысился до 52%, но этого все еще недостаточно, попробуем обучить другие модели"
   ]
  },
  {
   "cell_type": "code",
   "execution_count": 27,
   "metadata": {},
   "outputs": [
    {
     "name": "stdout",
     "output_type": "stream",
     "text": [
      "100 0.6543778801843319\n",
      "101 0.652073732718894\n",
      "102 0.6497695852534562\n",
      "103 0.6497695852534562\n",
      "104 0.6505190311418686\n",
      "105 0.651270207852194\n",
      "106 0.6535796766743648\n",
      "107 0.6520231213872832\n",
      "108 0.651270207852194\n",
      "109 0.6536248561565018\n",
      "110 0.6543778801843319\n",
      "111 0.6558891454965359\n",
      "112 0.6543778801843319\n",
      "113 0.6536248561565018\n",
      "114 0.6528735632183909\n",
      "115 0.6536248561565018\n",
      "116 0.6543778801843319\n",
      "117 0.6536697247706422\n",
      "118 0.6536697247706422\n",
      "119 0.6544202066590126\n"
     ]
    }
   ],
   "source": [
    "# Определение лучшей модели модели RandomForest\n",
    "for estim in range(100, 120, 1):\n",
    "    model = RandomForestClassifier(random_state=12, class_weight = 'balanced', n_estimators = estim, max_depth = 10, min_samples_leaf = 7)\n",
    "    model.fit(features_train, target_train)\n",
    "    predicted_valid = model.predict(features_valid)\n",
    "    print(estim, f1_score(target_valid, predicted_valid))\n",
    "\n",
    "  \n"
   ]
  },
  {
   "cell_type": "code",
   "execution_count": 28,
   "metadata": {
    "scrolled": true
   },
   "outputs": [
    {
     "name": "stdout",
     "output_type": "stream",
     "text": [
      "F1 модели Random Forest на валидационной выборке: 0.6558891454965359\n"
     ]
    }
   ],
   "source": [
    "# Тестирование модели RF с лучшими параметрами, определенными на прошлом шаге исследования\n",
    "model_RF = RandomForestClassifier(random_state=12, class_weight = 'balanced', n_estimators = 111, max_depth = 10, min_samples_leaf = 7)\n",
    "model_RF.fit(features_train, target_train)\n",
    "predicted_valid = model_RF.predict(features_valid)\n",
    "print(\"F1 модели Random Forest на валидационной выборке:\", f1_score(target_valid, predicted_valid))"
   ]
  },
  {
   "cell_type": "markdown",
   "metadata": {},
   "source": [
    "F1 модели RF увеличился до 0.655, посчитаем ее AUC ROC на валидационной выборке"
   ]
  },
  {
   "cell_type": "code",
   "execution_count": 29,
   "metadata": {},
   "outputs": [
    {
     "data": {
      "image/png": "[encoded data removed]",
      "text/plain": [
       "<Figure size 720x720 with 1 Axes>"
      ]
     },
     "metadata": {
      "needs_background": "light"
     },
     "output_type": "display_data"
    },
    {
     "name": "stdout",
     "output_type": "stream",
     "text": [
      "AUC: 0.8716992892706473\n"
     ]
    }
   ],
   "source": [
    "# Подсчет AUC ROC для лучшей модели случайного леса на валидационной выборке\n",
    "model_RF = RandomForestClassifier(random_state=12, class_weight = 'balanced', n_estimators = 111, max_depth = 10, min_samples_leaf = 7)\n",
    "model_RF.fit(features_train, target_train)\n",
    "probabilities_valid = model_RF.predict_proba(features_valid)\n",
    "probabilities_one_valid = probabilities_valid[:, 1]\n",
    "\n",
    "fpr, tpr, thresholds = roc_curve(target_valid, probabilities_one_valid) \n",
    "\n",
    "plt.figure(figsize=(10,10))\n",
    "plt.plot(fpr, tpr)\n",
    "plt.plot([0, 1], [0, 1], linestyle='-')\n",
    "plt.xlim([0.0, 1.0])\n",
    "plt.ylim([0.0, 1.0])\n",
    "plt.xlabel('False Positive Rate')\n",
    "plt.ylabel('True Positive Rate')\n",
    "plt.title('ROC-кривая')\n",
    "plt.show()\n",
    "\n",
    "auc_roc = roc_auc_score (target_valid, probabilities_one_valid)\n",
    "\n",
    "print(\"AUC:\", auc_roc)"
   ]
  },
  {
   "cell_type": "code",
   "execution_count": 30,
   "metadata": {},
   "outputs": [
    {
     "data": {
      "text/plain": [
       "GridSearchCV(cv=5, error_score='raise-deprecating',\n",
       "             estimator=DecisionTreeClassifier(class_weight='balanced',\n",
       "                                              criterion='gini', max_depth=None,\n",
       "                                              max_features=None,\n",
       "                                              max_leaf_nodes=None,\n",
       "                                              min_impurity_decrease=0.0,\n",
       "                                              min_impurity_split=None,\n",
       "                                              min_samples_leaf=1,\n",
       "                                              min_samples_split=2,\n",
       "                                              min_weight_fraction_leaf=0.0,\n",
       "                                              presort=False, random_state=12,\n",
       "                                              splitter='best'),\n",
       "             iid='warn', n_jobs=-1,\n",
       "             param_grid={'criterion': ['gini', 'entropy'],\n",
       "                         'max_depth': range(2, 20),\n",
       "                         'min_samples_split': range(5, 20)},\n",
       "             pre_dispatch='2*n_jobs', refit=True, return_train_score=False,\n",
       "             scoring='f1', verbose=0)"
      ]
     },
     "execution_count": 30,
     "metadata": {},
     "output_type": "execute_result"
    }
   ],
   "source": [
    "# Определение лучшей модели модели DecisionTree\n",
    "params = {'max_depth': range (2, 20),\n",
    "                     'criterion': ['gini', 'entropy'],\n",
    "                     'min_samples_split': range(5, 20),\n",
    "                     \n",
    "         }\n",
    "model = DecisionTreeClassifier(random_state=12, class_weight = 'balanced')\n",
    "\n",
    "grid_search = GridSearchCV(model, params, cv=5, scoring = 'f1',n_jobs=-1)\n",
    "grid_search.fit(features_train, target_train) "
   ]
  },
  {
   "cell_type": "code",
   "execution_count": 31,
   "metadata": {},
   "outputs": [
    {
     "data": {
      "text/plain": [
       "{'criterion': 'entropy', 'max_depth': 6, 'min_samples_split': 9}"
      ]
     },
     "execution_count": 31,
     "metadata": {},
     "output_type": "execute_result"
    }
   ],
   "source": [
    "grid_search.best_params_"
   ]
  },
  {
   "cell_type": "code",
   "execution_count": 32,
   "metadata": {},
   "outputs": [
    {
     "name": "stdout",
     "output_type": "stream",
     "text": [
      "F1 модели на валидационной выборке: 0.5667574931880109\n"
     ]
    }
   ],
   "source": [
    "model_DT = DecisionTreeClassifier(random_state=12, class_weight = 'balanced', criterion = 'entropy', max_depth = 6, min_samples_split=9)\n",
    "model_DT.fit(features_train, target_train)\n",
    "predicted_valid = model_DT.predict(features_valid)\n",
    "print(\"F1 модели на валидационной выборке:\",f1_score(target_valid, predicted_valid))"
   ]
  },
  {
   "cell_type": "markdown",
   "metadata": {},
   "source": [
    "### Вывод\n",
    "\n",
    "- Модель дерева решений с учетом подбора гиперпараметров показала результат F1 = 0.56 на валидационной выборке, пока еще маловато\n",
    "\n",
    "- Модель случайного леса с учетом подбора гиперпараметров показала результат F1 = 0.655, отличный результат\n",
    "\n",
    "- Модель логистической регрессии сильно уступает двум предыдущим результам моделей, ее F1 = 0.52\n",
    "\n",
    "- Модели были построены без учета фактора дисбаланса классов, а это значит, что можно попробовать улучшить результаты\n",
    "\n"
   ]
  },
  {
   "cell_type": "markdown",
   "metadata": {},
   "source": [
    "## Борьба с дисбалансом"
   ]
  },
  {
   "cell_type": "markdown",
   "metadata": {},
   "source": [
    "Борьба с дисбалансом может быть произведена 3 способами:\n",
    "- увеличение выборки\n",
    "- уменьшение выборки\n",
    "- изменение порога классификации"
   ]
  },
  {
   "cell_type": "code",
   "execution_count": 33,
   "metadata": {},
   "outputs": [
    {
     "data": {
      "text/plain": [
       "0    0.8015\n",
       "1    0.1985\n",
       "Name: Exited, dtype: float64"
      ]
     },
     "execution_count": 33,
     "metadata": {},
     "output_type": "execute_result"
    }
   ],
   "source": [
    "target_train.value_counts(normalize=True)"
   ]
  },
  {
   "cell_type": "code",
   "execution_count": 34,
   "metadata": {},
   "outputs": [],
   "source": [
    "# Создание функции, которая увеличит количество объектов редкого класса\n",
    "def upsample(features, target, repeat):\n",
    "    \n",
    "    features_zeros = features[target == 0]\n",
    "    features_ones = features[target == 1]\n",
    "    target_zeros = target[target == 0]\n",
    "    target_ones = target[target == 1]\n",
    "    \n",
    "    features_upsampled = pd.concat([features_zeros] + [features_ones] * repeat)\n",
    "    target_upsampled = pd.concat([target_zeros] + [target_ones] * repeat)\n",
    "    \n",
    "    features_upsampled = shuffle(features_upsampled, random_state=12)\n",
    "    target_upsampled = shuffle(target_upsampled, random_state=12)\n",
    "    \n",
    "    return features_upsampled, target_upsampled\n"
   ]
  },
  {
   "cell_type": "code",
   "execution_count": 35,
   "metadata": {},
   "outputs": [
    {
     "name": "stdout",
     "output_type": "stream",
     "text": [
      "Коэф умножения: 2\n",
      "F1 модели логистической регрессии на валидационной выборке: 0.5241016652059597\n",
      "F1 модели DT на валидационной выборке: 0.5654545454545454\n",
      "F1 модели Random Forest на валидационной выборке: 0.6531986531986532\n",
      "Коэф умножения: 3\n",
      "F1 модели логистической регрессии на валидационной выборке: 0.5241016652059597\n",
      "F1 модели DT на валидационной выборке: 0.5654545454545454\n",
      "F1 модели Random Forest на валидационной выборке: 0.6481069042316259\n",
      "Коэф умножения: 4\n",
      "F1 модели логистической регрессии на валидационной выборке: 0.5241016652059597\n",
      "F1 модели DT на валидационной выборке: 0.5654545454545454\n",
      "F1 модели Random Forest на валидационной выборке: 0.6415929203539823\n",
      "Коэф умножения: 5\n",
      "F1 модели логистической регрессии на валидационной выборке: 0.5241016652059597\n",
      "F1 модели DT на валидационной выборке: 0.5654545454545454\n",
      "F1 модели Random Forest на валидационной выборке: 0.6476399560922064\n",
      "Коэф умножения: 6\n",
      "F1 модели логистической регрессии на валидационной выборке: 0.5241016652059597\n",
      "F1 модели DT на валидационной выборке: 0.5654545454545454\n",
      "F1 модели Random Forest на валидационной выборке: 0.6366630076838639\n",
      "Коэф умножения: 7\n",
      "F1 модели логистической регрессии на валидационной выборке: 0.5241016652059597\n",
      "F1 модели DT на валидационной выборке: 0.5654545454545454\n",
      "F1 модели Random Forest на валидационной выборке: 0.6525139664804468\n"
     ]
    }
   ],
   "source": [
    "for i in range (2, 8):\n",
    "    print('Коэф умножения:', i)\n",
    "    features_upsampled, target_upsampled = upsample(features_train, target_train, i)\n",
    "    \n",
    "    model = LogisticRegression(solver='liblinear', class_weight = 'balanced', random_state=12)\n",
    "    model.fit(features_upsampled, target_upsampled)\n",
    "    predicted_valid = model.predict(features_valid)\n",
    "    print(\"F1 модели логистической регрессии на валидационной выборке:\", f1_score(target_valid, predicted_valid))\n",
    "    \n",
    "    model_DT = DecisionTreeClassifier(random_state=12, class_weight = 'balanced', criterion = 'entropy', max_depth = 6, min_samples_split=9)\n",
    "    model_DT.fit(features_upsampled, target_upsampled)\n",
    "    predicted_valid = model_DT.predict(features_valid)\n",
    "    print(\"F1 модели DT на валидационной выборке:\",f1_score(target_valid, predicted_valid))\n",
    "    \n",
    "    model_RF = RandomForestClassifier(random_state=12, class_weight = 'balanced', n_estimators = 111, max_depth = 10, min_samples_leaf = 7)\n",
    "    model_RF.fit(features_upsampled, target_upsampled)\n",
    "    predicted_valid = model_RF.predict(features_valid)\n",
    "    print(\"F1 модели Random Forest на валидационной выборке:\", f1_score(target_valid, predicted_valid))"
   ]
  },
  {
   "cell_type": "markdown",
   "metadata": {},
   "source": [
    "Максимальный F1 на валидационной выборке получился при коэффициенте умножения 2 у модели Random Forest (0.653)"
   ]
  },
  {
   "cell_type": "code",
   "execution_count": 36,
   "metadata": {},
   "outputs": [
    {
     "data": {
      "image/png": "[encoded data removed]",
      "text/plain": [
       "<Figure size 720x720 with 1 Axes>"
      ]
     },
     "metadata": {
      "needs_background": "light"
     },
     "output_type": "display_data"
    },
    {
     "name": "stdout",
     "output_type": "stream",
     "text": [
      "AUC: 0.871969898521531\n"
     ]
    }
   ],
   "source": [
    "# Подсчет метрики auc-roc для лучшей модели случайного леса после применения downsampling\n",
    "features_upsampled, target_upsampled = upsample(features_train, target_train, 2)\n",
    "\n",
    "model_RF = RandomForestClassifier(random_state=12, class_weight = 'balanced', n_estimators = 111, max_depth = 10, min_samples_leaf = 7)\n",
    "model_RF.fit(features_upsampled, target_upsampled)\n",
    "probabilities_valid = model_RF.predict_proba(features_valid)\n",
    "probabilities_one_valid = probabilities_valid[:, 1]\n",
    "\n",
    "fpr, tpr, thresholds = roc_curve(target_valid, probabilities_one_valid) \n",
    "\n",
    "plt.figure(figsize=(10,10))\n",
    "plt.plot(fpr, tpr)\n",
    "plt.plot([0, 1], [0, 1], linestyle='-')\n",
    "plt.xlim([0.0, 1.0])\n",
    "plt.ylim([0.0, 1.0])\n",
    "plt.xlabel('False Positive Rate')\n",
    "plt.ylabel('True Positive Rate')\n",
    "plt.title('ROC-кривая')\n",
    "plt.show()\n",
    "\n",
    "auc_roc = roc_auc_score (target_valid, probabilities_one_valid)\n",
    "\n",
    "print(\"AUC:\", auc_roc)"
   ]
  },
  {
   "cell_type": "markdown",
   "metadata": {},
   "source": [
    "Попробуем теперь метод уменьшения выборки"
   ]
  },
  {
   "cell_type": "code",
   "execution_count": 37,
   "metadata": {},
   "outputs": [],
   "source": [
    "# Создание функции, которая уменьшит количество объектов частого класса\n",
    "def downsample(features, target, fraction):\n",
    "    features_zeros = features[target == 0]\n",
    "    features_ones = features[target == 1]\n",
    "    target_zeros = target[target == 0]\n",
    "    target_ones = target[target == 1]\n",
    "\n",
    "    features_downsampled = pd.concat(\n",
    "        [features_zeros.sample(frac=fraction, random_state=12)] + [features_ones])\n",
    "    target_downsampled = pd.concat(\n",
    "        [target_zeros.sample(frac=fraction, random_state=12)] + [target_ones])\n",
    "    \n",
    "    features_downsampled, target_downsampled = shuffle(\n",
    "        features_downsampled, target_downsampled, random_state=12)\n",
    "    \n",
    "    return features_downsampled, target_downsampled"
   ]
  },
  {
   "cell_type": "code",
   "execution_count": 38,
   "metadata": {
    "scrolled": false
   },
   "outputs": [
    {
     "name": "stdout",
     "output_type": "stream",
     "text": [
      "Коэф i: 0.5\n",
      "F1 модели логистической регрессии на валидационной выборке: 0.5177304964539007\n",
      "F1 модели DT на валидационной выборке: 0.5632286995515695\n",
      "F1 модели Random Forest на валидационной выборке: 0.6413043478260868\n",
      "Коэф i: 0.51\n",
      "F1 модели логистической регрессии на валидационной выборке: 0.5163572060123783\n",
      "F1 модели DT на валидационной выборке: 0.5670103092783505\n",
      "F1 модели Random Forest на валидационной выборке: 0.6370530877573131\n",
      "Коэф i: 0.52\n",
      "F1 модели логистической регрессии на валидационной выборке: 0.5189094107299912\n",
      "F1 модели DT на валидационной выборке: 0.5670103092783505\n",
      "F1 модели Random Forest на валидационной выборке: 0.6406926406926406\n",
      "Коэф i: 0.53\n",
      "F1 модели логистической регрессии на валидационной выборке: 0.5184534270650264\n",
      "F1 модели DT на валидационной выборке: 0.5727272727272726\n",
      "F1 модели Random Forest на валидационной выборке: 0.6386192017259978\n",
      "Коэф i: 0.54\n",
      "F1 модели логистической регрессии на валидационной выборке: 0.5171503957783641\n",
      "F1 модели DT на валидационной выборке: 0.5727272727272726\n",
      "F1 модели Random Forest на валидационной выборке: 0.6412213740458016\n",
      "Коэф i: 0.55\n",
      "F1 модели логистической регрессии на валидационной выборке: 0.5162995594713657\n",
      "F1 модели DT на валидационной выборке: 0.5745454545454546\n",
      "F1 модели Random Forest на валидационной выборке: 0.6418400876232202\n",
      "Коэф i: 0.56\n",
      "F1 модели логистической регрессии на валидационной выборке: 0.5162995594713657\n",
      "F1 модели DT на валидационной выборке: 0.5740236148955495\n",
      "F1 модели Random Forest на валидационной выборке: 0.6438809261300992\n",
      "Коэф i: 0.5700000000000001\n",
      "F1 модели логистической регрессии на валидационной выборке: 0.5176056338028169\n",
      "F1 модели DT на валидационной выборке: 0.5740236148955495\n",
      "F1 модели Random Forest на валидационной выборке: 0.6425438596491229\n",
      "Коэф i: 0.5800000000000001\n",
      "F1 модели логистической регрессии на валидационной выборке: 0.519434628975265\n",
      "F1 модели DT на валидационной выборке: 0.5737556561085974\n",
      "F1 модели Random Forest на валидационной выборке: 0.6372657111356118\n",
      "Коэф i: 0.5900000000000001\n",
      "F1 модели логистической регрессии на валидационной выборке: 0.5202821869488536\n",
      "F1 модели DT на валидационной выборке: 0.5747960108794198\n",
      "F1 модели Random Forest на валидационной выборке: 0.6427771556550952\n"
     ]
    }
   ],
   "source": [
    "for i in np.arange(0.5, 0.6, 0.01):\n",
    "    print('Коэф i:', i)\n",
    "    features_downsampled, target_downsampled = downsample(features_train, target_train, i)\n",
    "    \n",
    "    model = LogisticRegression(solver='liblinear', class_weight = 'balanced', random_state=12)\n",
    "    model.fit(features_downsampled, target_downsampled)\n",
    "    predicted_valid = model.predict(features_valid)\n",
    "    print(\"F1 модели логистической регрессии на валидационной выборке:\", f1_score(target_valid, predicted_valid))\n",
    "    \n",
    "    model_DT = DecisionTreeClassifier(random_state=12, class_weight = 'balanced', criterion = 'entropy', max_depth = 6, min_samples_split=9)\n",
    "    model_DT.fit(features_downsampled, target_downsampled)\n",
    "    predicted_valid = model_DT.predict(features_valid)\n",
    "    print(\"F1 модели DT на валидационной выборке:\",f1_score(target_valid, predicted_valid))\n",
    "    \n",
    "    model_RF = RandomForestClassifier(random_state=12, class_weight = 'balanced', n_estimators = 111, max_depth = 10, min_samples_leaf = 7)\n",
    "    model_RF.fit(features_downsampled, target_downsampled)\n",
    "    predicted_valid = model_RF.predict(features_valid)\n",
    "    print(\"F1 модели Random Forest на валидационной выборке:\", f1_score(target_valid, predicted_valid))"
   ]
  },
  {
   "cell_type": "markdown",
   "metadata": {},
   "source": [
    "Максимальный F1 на валидационной выборке получился при коэффициенте i=0.56 у модели Random Forest (0.643)"
   ]
  },
  {
   "cell_type": "code",
   "execution_count": 39,
   "metadata": {},
   "outputs": [
    {
     "data": {
      "image/png": "[encoded data removed]",
      "text/plain": [
       "<Figure size 720x720 with 1 Axes>"
      ]
     },
     "metadata": {
      "needs_background": "light"
     },
     "output_type": "display_data"
    },
    {
     "name": "stdout",
     "output_type": "stream",
     "text": [
      "AUC: 0.8679411652920832\n"
     ]
    }
   ],
   "source": [
    "# Подсчет метрики auc-roc для лучшей модели случайного леса после применения downsampling\n",
    "\n",
    "features_downsampled, target_downsampled = downsample(features_train, target_train, 0.56)\n",
    "model_RF = RandomForestClassifier(random_state=12, class_weight = 'balanced', n_estimators = 111, max_depth = 10, min_samples_leaf = 7)\n",
    "model_RF.fit(features_downsampled, target_downsampled)\n",
    "probabilities_valid = model_RF.predict_proba(features_valid)\n",
    "probabilities_one_valid = probabilities_valid[:, 1]\n",
    "\n",
    "fpr, tpr, thresholds = roc_curve(target_valid, probabilities_one_valid) \n",
    "\n",
    "plt.figure(figsize=(10,10))\n",
    "plt.plot(fpr, tpr)\n",
    "plt.plot([0, 1], [0, 1], linestyle='-')\n",
    "plt.xlim([0.0, 1.0])\n",
    "plt.ylim([0.0, 1.0])\n",
    "plt.xlabel('False Positive Rate')\n",
    "plt.ylabel('True Positive Rate')\n",
    "plt.title('ROC-кривая')\n",
    "plt.show()\n",
    "\n",
    "auc_roc = roc_auc_score (target_valid, probabilities_one_valid)\n",
    "\n",
    "print(\"AUC:\", auc_roc)"
   ]
  },
  {
   "cell_type": "markdown",
   "metadata": {},
   "source": [
    "Метод увеличения выборки показал лучшие результаты по сравнению с методом уменьшения "
   ]
  },
  {
   "cell_type": "markdown",
   "metadata": {},
   "source": [
    "Теперь попробуем изменить порог классификации"
   ]
  },
  {
   "cell_type": "code",
   "execution_count": 40,
   "metadata": {},
   "outputs": [
    {
     "name": "stdout",
     "output_type": "stream",
     "text": [
      "Threshold = 0.00 | Precision = 0.207, Recall = 1.000 | F1-score = 0.344\n",
      "Threshold = 0.05 | Precision = 0.207, Recall = 1.000 | F1-score = 0.344\n",
      "Threshold = 0.10 | Precision = 0.210, Recall = 0.998 | F1-score = 0.347\n",
      "Threshold = 0.15 | Precision = 0.219, Recall = 0.988 | F1-score = 0.359\n",
      "Threshold = 0.20 | Precision = 0.232, Recall = 0.969 | F1-score = 0.374\n",
      "Threshold = 0.25 | Precision = 0.250, Recall = 0.937 | F1-score = 0.394\n",
      "Threshold = 0.30 | Precision = 0.270, Recall = 0.901 | F1-score = 0.415\n",
      "Threshold = 0.35 | Precision = 0.302, Recall = 0.872 | F1-score = 0.449\n",
      "Threshold = 0.40 | Precision = 0.333, Recall = 0.817 | F1-score = 0.473\n",
      "Threshold = 0.45 | Precision = 0.373, Recall = 0.771 | F1-score = 0.503\n",
      "Threshold = 0.50 | Precision = 0.412, Recall = 0.720 | F1-score = 0.524\n",
      "Threshold = 0.55 | Precision = 0.448, Recall = 0.641 | F1-score = 0.527\n",
      "Threshold = 0.60 | Precision = 0.494, Recall = 0.564 | F1-score = 0.526\n",
      "Threshold = 0.65 | Precision = 0.527, Recall = 0.467 | F1-score = 0.496\n",
      "Threshold = 0.70 | Precision = 0.549, Recall = 0.361 | F1-score = 0.436\n",
      "Threshold = 0.75 | Precision = 0.566, Recall = 0.280 | F1-score = 0.374\n",
      "Threshold = 0.80 | Precision = 0.612, Recall = 0.205 | F1-score = 0.307\n",
      "Threshold = 0.85 | Precision = 0.647, Recall = 0.133 | F1-score = 0.220\n",
      "Threshold = 0.90 | Precision = 0.636, Recall = 0.051 | F1-score = 0.094\n"
     ]
    },
    {
     "data": {
      "image/png": "[encoded data removed]",
      "text/plain": [
       "<Figure size 1152x576 with 1 Axes>"
      ]
     },
     "metadata": {
      "needs_background": "light"
     },
     "output_type": "display_data"
    }
   ],
   "source": [
    "# Расчет F1 метрики при изменении порога классификации для модели логистической регрессии\n",
    "model = LogisticRegression(random_state=12, solver='liblinear', class_weight = 'balanced')\n",
    "model.fit(features_train, target_train)\n",
    "probabilities_valid = model.predict_proba(features_valid)\n",
    "probabilities_one_valid = probabilities_valid[:, 1]\n",
    "\n",
    "for threshold in np.arange(0, 0.95, 0.05):\n",
    "    predicted_valid = probabilities_one_valid > threshold\n",
    "    precision = precision_score(target_valid, predicted_valid)\n",
    "    recall = recall_score(target_valid, predicted_valid)\n",
    "    f1 = f1_score(target_valid, predicted_valid)\n",
    "    print(\"Threshold = {:.2f} | Precision = {:.3f}, Recall = {:.3f} | F1-score = {:.3f}\".format(\n",
    "        threshold, precision, recall, f1))\n",
    "\n",
    "precision, recall, thresholds = precision_recall_curve(target_valid, probabilities_valid[:, 1])    \n",
    "plt.figure(figsize=(16, 8))\n",
    "plt.step(recall, precision, where='post')\n",
    "plt.xlabel('Recall')\n",
    "plt.ylabel('Precision')\n",
    "plt.ylim([0.0, 1.0])\n",
    "plt.xlim([0.0, 1.0])\n",
    "plt.title('PR curve')\n",
    "plt.show()"
   ]
  },
  {
   "cell_type": "markdown",
   "metadata": {},
   "source": [
    "Максимум метрика F1 достигает при пороге 0.55 (F1 = 0.527)"
   ]
  },
  {
   "cell_type": "code",
   "execution_count": 41,
   "metadata": {},
   "outputs": [
    {
     "name": "stdout",
     "output_type": "stream",
     "text": [
      "Threshold = 0.00 | Precision = 0.212, Recall = 0.964 | F1-score = 0.347\n",
      "Threshold = 0.05 | Precision = 0.212, Recall = 0.964 | F1-score = 0.347\n",
      "Threshold = 0.10 | Precision = 0.250, Recall = 0.947 | F1-score = 0.395\n",
      "Threshold = 0.15 | Precision = 0.257, Recall = 0.935 | F1-score = 0.403\n",
      "Threshold = 0.20 | Precision = 0.257, Recall = 0.935 | F1-score = 0.403\n",
      "Threshold = 0.25 | Precision = 0.365, Recall = 0.829 | F1-score = 0.507\n",
      "Threshold = 0.30 | Precision = 0.403, Recall = 0.814 | F1-score = 0.540\n",
      "Threshold = 0.35 | Precision = 0.417, Recall = 0.802 | F1-score = 0.549\n",
      "Threshold = 0.40 | Precision = 0.435, Recall = 0.769 | F1-score = 0.555\n",
      "Threshold = 0.45 | Precision = 0.435, Recall = 0.769 | F1-score = 0.555\n",
      "Threshold = 0.50 | Precision = 0.455, Recall = 0.752 | F1-score = 0.567\n",
      "Threshold = 0.55 | Precision = 0.484, Recall = 0.723 | F1-score = 0.580\n",
      "Threshold = 0.60 | Precision = 0.540, Recall = 0.660 | F1-score = 0.594\n",
      "Threshold = 0.65 | Precision = 0.624, Recall = 0.595 | F1-score = 0.609\n",
      "Threshold = 0.70 | Precision = 0.782, Recall = 0.448 | F1-score = 0.570\n",
      "Threshold = 0.75 | Precision = 0.791, Recall = 0.448 | F1-score = 0.572\n",
      "Threshold = 0.80 | Precision = 0.791, Recall = 0.448 | F1-score = 0.572\n",
      "Threshold = 0.85 | Precision = 0.831, Recall = 0.390 | F1-score = 0.531\n",
      "Threshold = 0.90 | Precision = 0.873, Recall = 0.299 | F1-score = 0.445\n"
     ]
    },
    {
     "data": {
      "image/png": "[encoded data removed]",
      "text/plain": [
       "<Figure size 1152x576 with 1 Axes>"
      ]
     },
     "metadata": {
      "needs_background": "light"
     },
     "output_type": "display_data"
    }
   ],
   "source": [
    "# Расчет F1 метрики при изменении порога классификации для модели дерева решений\n",
    "model = DecisionTreeClassifier(random_state=12, class_weight = 'balanced', criterion = 'entropy', max_depth = 6, min_samples_split=9)\n",
    "model.fit(features_train, target_train)\n",
    "probabilities_valid = model.predict_proba(features_valid)\n",
    "probabilities_one_valid = probabilities_valid[:, 1]\n",
    "\n",
    "for threshold in np.arange(0, 0.95, 0.05):\n",
    "    predicted_valid = probabilities_one_valid > threshold\n",
    "    precision = precision_score(target_valid, predicted_valid)\n",
    "    recall = recall_score(target_valid, predicted_valid)\n",
    "    f1 = f1_score(target_valid, predicted_valid)\n",
    "    print(\"Threshold = {:.2f} | Precision = {:.3f}, Recall = {:.3f} | F1-score = {:.3f}\".format(\n",
    "        threshold, precision, recall, f1))\n",
    "\n",
    "precision, recall, thresholds = precision_recall_curve(target_valid, probabilities_valid[:, 1])    \n",
    "plt.figure(figsize=(16, 8))\n",
    "plt.step(recall, precision, where='post')\n",
    "plt.xlabel('Recall')\n",
    "plt.ylabel('Precision')\n",
    "plt.ylim([0.0, 1.0])\n",
    "plt.xlim([0.0, 1.0])\n",
    "plt.title('PR curve')\n",
    "plt.show()"
   ]
  },
  {
   "cell_type": "markdown",
   "metadata": {},
   "source": [
    "Максимум метрика F1 достигает при пороге 0.65 (F1 = 0.609)"
   ]
  },
  {
   "cell_type": "code",
   "execution_count": 42,
   "metadata": {},
   "outputs": [
    {
     "name": "stdout",
     "output_type": "stream",
     "text": [
      "Threshold = 0.00 | Precision = 0.207, Recall = 1.000 | F1-score = 0.344\n",
      "Threshold = 0.05 | Precision = 0.215, Recall = 1.000 | F1-score = 0.355\n",
      "Threshold = 0.10 | Precision = 0.236, Recall = 0.990 | F1-score = 0.381\n",
      "Threshold = 0.15 | Precision = 0.263, Recall = 0.976 | F1-score = 0.415\n",
      "Threshold = 0.20 | Precision = 0.297, Recall = 0.957 | F1-score = 0.453\n",
      "Threshold = 0.25 | Precision = 0.347, Recall = 0.923 | F1-score = 0.504\n",
      "Threshold = 0.30 | Precision = 0.404, Recall = 0.875 | F1-score = 0.553\n",
      "Threshold = 0.35 | Precision = 0.453, Recall = 0.819 | F1-score = 0.584\n",
      "Threshold = 0.40 | Precision = 0.503, Recall = 0.761 | F1-score = 0.606\n",
      "Threshold = 0.45 | Precision = 0.573, Recall = 0.716 | F1-score = 0.637\n",
      "Threshold = 0.50 | Precision = 0.630, Recall = 0.684 | F1-score = 0.656\n",
      "Threshold = 0.55 | Precision = 0.663, Recall = 0.641 | F1-score = 0.652\n",
      "Threshold = 0.60 | Precision = 0.701, Recall = 0.583 | F1-score = 0.637\n",
      "Threshold = 0.65 | Precision = 0.741, Recall = 0.530 | F1-score = 0.618\n",
      "Threshold = 0.70 | Precision = 0.791, Recall = 0.455 | F1-score = 0.578\n",
      "Threshold = 0.75 | Precision = 0.849, Recall = 0.381 | F1-score = 0.526\n",
      "Threshold = 0.80 | Precision = 0.897, Recall = 0.294 | F1-score = 0.443\n",
      "Threshold = 0.85 | Precision = 0.935, Recall = 0.207 | F1-score = 0.339\n",
      "Threshold = 0.90 | Precision = 0.933, Recall = 0.101 | F1-score = 0.183\n"
     ]
    },
    {
     "data": {
      "image/png": "[encoded data removed]",
      "text/plain": [
       "<Figure size 1152x576 with 1 Axes>"
      ]
     },
     "metadata": {
      "needs_background": "light"
     },
     "output_type": "display_data"
    }
   ],
   "source": [
    "# Расчет F1 метрики при изменении порога классификации для модели леса решений\n",
    "model = RandomForestClassifier(random_state=12, class_weight = 'balanced', n_estimators = 111, max_depth = 10, min_samples_leaf = 7)\n",
    "model.fit(features_train, target_train)\n",
    "probabilities_valid = model.predict_proba(features_valid)\n",
    "probabilities_one_valid = probabilities_valid[:, 1]\n",
    "\n",
    "for threshold in np.arange(0, 0.95, 0.05):\n",
    "    predicted_valid = probabilities_one_valid > threshold\n",
    "    precision = precision_score(target_valid, predicted_valid)\n",
    "    recall = recall_score(target_valid, predicted_valid)\n",
    "    f1 = f1_score(target_valid, predicted_valid)\n",
    "    print(\"Threshold = {:.2f} | Precision = {:.3f}, Recall = {:.3f} | F1-score = {:.3f}\".format(\n",
    "        threshold, precision, recall, f1))\n",
    "\n",
    "precision, recall, thresholds = precision_recall_curve(target_valid, probabilities_valid[:, 1])    \n",
    "plt.figure(figsize=(16, 8))\n",
    "plt.step(recall, precision, where='post')\n",
    "plt.xlabel('Recall')\n",
    "plt.ylabel('Precision')\n",
    "plt.ylim([0.0, 1.0])\n",
    "plt.xlim([0.0, 1.0])\n",
    "plt.title('PR curve')\n",
    "plt.show()"
   ]
  },
  {
   "cell_type": "markdown",
   "metadata": {},
   "source": [
    "Максимум метрика F1 достигает при пороге 0.5 (F1 = 0.656)"
   ]
  },
  {
   "cell_type": "markdown",
   "metadata": {},
   "source": [
    "### Вывод\n",
    "\n",
    "- Модель логистической регрессии даже с учетом несбалансированности классов показала себя недостаточно хорошо, ни одна из моделей не достигла метрики F1 = 0.59\n",
    "\n",
    "- Модель случайного леса с учетом несбалансированности классов и подбора гиперпараметров получилось довести до результата F1 = 0.653 при использовании метода уменьшения выборки, однако без использования методов семплирования результат был лучше\n",
    "\n",
    "- Модель дерева решений получилось улучшить до показателя метрики F1 = 0.574, однако этого опять же недостаточно для решения текущй задачи\n",
    "\n",
    "- На следующем этапе проверим как себя показывают наш лучшая модель случайного леса на тестовой выборке и построим ее auc-roc"
   ]
  },
  {
   "cell_type": "markdown",
   "metadata": {},
   "source": [
    "## Тестирование модели"
   ]
  },
  {
   "cell_type": "markdown",
   "metadata": {},
   "source": [
    "Однако на тестовой выборке метрика F1 модели дерева решений опустилась до 0.55, что говорит о ее непригодности для решения нашей задачи"
   ]
  },
  {
   "cell_type": "code",
   "execution_count": 43,
   "metadata": {},
   "outputs": [
    {
     "name": "stdout",
     "output_type": "stream",
     "text": [
      "F1 модели RF на валидационной выборке: 0.6558891454965359\n",
      "F1 модели RF на тестовой выборке: 0.6227678571428572\n"
     ]
    }
   ],
   "source": [
    "# Обучение лучшей модели случайного леса\n",
    "model_RF = RandomForestClassifier(random_state=12, class_weight = 'balanced', n_estimators = 111, max_depth = 10, min_samples_leaf = 7)\n",
    "model_RF.fit(features_train, target_train)\n",
    "predicted_valid = model_RF.predict(features_valid)\n",
    "predicted_test = model_RF.predict(features_test)\n",
    "print(\"F1 модели RF на валидационной выборке:\",f1_score(target_valid, predicted_valid))\n",
    "print(\"F1 модели RF на тестовой выборке:\",f1_score(target_test, predicted_test))"
   ]
  },
  {
   "cell_type": "code",
   "execution_count": 44,
   "metadata": {},
   "outputs": [
    {
     "data": {
      "image/png": "[encoded data removed]",
      "text/plain": [
       "<Figure size 720x720 with 1 Axes>"
      ]
     },
     "metadata": {
      "needs_background": "light"
     },
     "output_type": "display_data"
    },
    {
     "name": "stdout",
     "output_type": "stream",
     "text": [
      "AUC: 0.8655608446126295\n"
     ]
    }
   ],
   "source": [
    "# Подсчет метрики auc-roc для лучшей модели случайного леса на тестовой выборке\n",
    "probabilities_test = model_RF.predict_proba(features_test)\n",
    "probabilities_one_test = probabilities_test[:, 1]\n",
    "\n",
    "fpr, tpr, thresholds = roc_curve(target_test, probabilities_one_test) \n",
    "\n",
    "plt.figure(figsize=(10,10))\n",
    "plt.plot(fpr, tpr)\n",
    "plt.plot([0, 1], [0, 1], linestyle='-')\n",
    "plt.xlim([0.0, 1.0])\n",
    "plt.ylim([0.0, 1.0])\n",
    "plt.xlabel('False Positive Rate')\n",
    "plt.ylabel('True Positive Rate')\n",
    "plt.title('ROC-кривая')\n",
    "plt.show()\n",
    "\n",
    "auc_roc = roc_auc_score (target_test, probabilities_one_test)\n",
    "\n",
    "print(\"AUC:\", auc_roc)"
   ]
  },
  {
   "cell_type": "code",
   "execution_count": 45,
   "metadata": {},
   "outputs": [
    {
     "data": {
      "image/png": "[encoded data removed]",
      "text/plain": [
       "<Figure size 1152x576 with 1 Axes>"
      ]
     },
     "metadata": {
      "needs_background": "light"
     },
     "output_type": "display_data"
    }
   ],
   "source": [
    "feat_importances = pd.Series(model_RF.feature_importances_, index=df.columns)\n",
    "plt.figure(figsize=(16,8))\n",
    "plt.title('Столбчатая диаграмма влияния факторов на целевую переменную')\n",
    "feat_importances.plot(kind='barh')\n",
    "plt.show()"
   ]
  },
  {
   "cell_type": "markdown",
   "metadata": {},
   "source": [
    "### Итог \n",
    "- Таким образом мы создали оптимальную модель, которая соответствует основной задаче, то есть метрика F1 на тестовой выборке = 0.62\n",
    "- Руководство \"Бета-Банка\" может выдохнуть спокойно, благодаря выполненной работе, они смогут прогнозировать то, кто из клиентов находится в группе риска ухода, следовательно смогут предпринять различные меры, чтобы удержать этих клиентов"
   ]
  },
  {
   "cell_type": "markdown",
   "metadata": {},
   "source": [
    "# Вопрос ревьюеру\n",
    "\n",
    "Когда мы проверяем модели по различным метрикам, я должен в итоге ориентироваться на тестовую или валидационную выборку? Во многих проектах я замечал, что валидационную выборку не выделяют, то есть пользуются только обучающей и тестовой. И вот вопрос в том в каких случаях стоит делить на 3 выборки а в каких случаях хватит всего лишь 2\n"
   ]
  },
  {
   "cell_type": "markdown",
   "metadata": {},
   "source": [
    "## Чек-лист готовности проекта"
   ]
  },
  {
   "cell_type": "markdown",
   "metadata": {},
   "source": [
    "Поставьте 'x' в выполненных пунктах. Далее нажмите Shift+Enter."
   ]
  },
  {
   "cell_type": "markdown",
   "metadata": {},
   "source": [
    "- [x]  Jupyter Notebook открыт\n",
    "- [x]  Весь код выполняется без ошибок\n",
    "- [x]  Ячейки с кодом расположены в порядке исполнения\n",
    "- [x]  Выполнен шаг 1: данные подготовлены\n",
    "- [x]  Выполнен шаг 2: задача исследована\n",
    "    - [x]  Исследован баланс классов\n",
    "    - [x]  Изучены модели без учёта дисбаланса\n",
    "    - [x]  Написаны выводы по результатам исследования\n",
    "- [x]  Выполнен шаг 3: учтён дисбаланс\n",
    "    - [x]  Применено несколько способов борьбы с дисбалансом\n",
    "    - [x]  Написаны выводы по результатам исследования\n",
    "- [x]  Выполнен шаг 4: проведено тестирование\n",
    "- [x]  Удалось достичь *F1*-меры не менее 0.59\n",
    "- [x]  Исследована метрика *AUC-ROC*"
   ]
  }
 ],
 "metadata": {
  "kernelspec": {
   "display_name": "Python 3",
   "language": "python",
   "name": "python3"
  },
  "language_info": {
   "codemirror_mode": {
    "name": "ipython",
    "version": 3
   },
   "file_extension": ".py",
   "mimetype": "text/x-python",
   "name": "python",
   "nbconvert_exporter": "python",
   "pygments_lexer": "ipython3",
   "version": "3.7.10"
  },
  "toc": {
   "base_numbering": 1,
   "nav_menu": {},
   "number_sections": true,
   "sideBar": true,
   "skip_h1_title": true,
   "title_cell": "Содержание",
   "title_sidebar": "Contents",
   "toc_cell": true,
   "toc_position": {
    "height": "calc(100% - 180px)",
    "left": "10px",
    "top": "150px",
    "width": "165px"
   },
   "toc_section_display": true,
   "toc_window_display": true
  }
 },
 "nbformat": 4,
 "nbformat_minor": 2
}
